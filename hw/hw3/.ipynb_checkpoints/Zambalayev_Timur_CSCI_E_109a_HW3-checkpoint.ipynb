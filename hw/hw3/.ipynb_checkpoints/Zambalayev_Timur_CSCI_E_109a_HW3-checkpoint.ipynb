{
 "cells": [
  {
   "cell_type": "markdown",
   "metadata": {},
   "source": [
    "# CS 109A/AC 209A/STAT 121A Data Science: Homework 3\n",
    "**Harvard University**<br>\n",
    "**Fall 2016**<br>\n",
    "**Instructors: W. Pan, P. Protopapas, K. Rader**<br>\n",
    "**Due Date: ** Wednesday, September 28th, 2016 at 11:59pm"
   ]
  },
  {
   "cell_type": "markdown",
   "metadata": {},
   "source": [
    "Download the `IPython` notebook as well as the data file from Vocareum and complete locally.\n",
    "\n",
    "To submit your assignment, in Vocareum, upload (using the 'Upload' button on your Jupyter Dashboard) your solution to Vocareum as a single notebook with following file name format:\n",
    "\n",
    "`last_first_CourseNumber_HW3.ipynb`\n",
    "\n",
    "where `CourseNumber` is the course in which you're enrolled (CS 109a, Stats 121a, AC 209a). Submit your assignment in Vocareum using the 'Submit' button.\n",
    "\n",
    "**Avoid editing your file in Vocareum after uploading. If you need to make a change in a solution. Delete your old solution file from Vocareum and upload a new solution. Click submit only ONCE after verifying that you have uploaded the correct file. The assignment will CLOSE after you click the submit button.**\n",
    "\n",
    "Problems on homework assignments are equally weighted. The Challenge Question is required for AC 209A students and optional for all others. Student who complete the Challenge Problem as optional extra credit will receive +0.5% towards your final grade for each correct solution. "
   ]
  },
  {
   "cell_type": "markdown",
   "metadata": {},
   "source": [
    "Import libraries"
   ]
  },
  {
   "cell_type": "code",
   "execution_count": 11,
   "metadata": {
    "collapsed": false
   },
   "outputs": [],
   "source": [
    "import numpy as np\n",
    "import pandas as pd\n",
    "from sklearn.linear_model import LinearRegression as Lin_Reg\n",
    "import matplotlib\n",
    "import matplotlib.pyplot as plt\n",
    "import matplotlib.cm as cmx\n",
    "import matplotlib.colors as colors\n",
    "import scipy as sp\n",
    "import statsmodels.api as sm\n",
    "%matplotlib inline"
   ]
  },
  {
   "cell_type": "markdown",
   "metadata": {},
   "source": [
    "## Problem 0: Basic Information\n",
    "\n",
    "Fill in your basic information. \n",
    "\n",
    "### Part (a): Your name"
   ]
  },
  {
   "cell_type": "markdown",
   "metadata": {},
   "source": [
    "[Zambalayev, Timur]"
   ]
  },
  {
   "cell_type": "markdown",
   "metadata": {},
   "source": [
    "### Part (b): Course Number"
   ]
  },
  {
   "cell_type": "markdown",
   "metadata": {},
   "source": [
    "[CSCI E-109a]"
   ]
  },
  {
   "cell_type": "markdown",
   "metadata": {},
   "source": [
    "### Part (c): Who did you work with?"
   ]
  },
  {
   "cell_type": "markdown",
   "metadata": {},
   "source": [
    "[]"
   ]
  },
  {
   "cell_type": "markdown",
   "metadata": {},
   "source": [
    "**All data sets can be found in the ``datasets`` folder and are in comma separated value (CSV) format**"
   ]
  },
  {
   "cell_type": "markdown",
   "metadata": {},
   "source": [
    "## Problem 1: Multiple linear regression\n",
    "\n",
    "### Part (a): Implement multiple linear regression from scratch\n",
    "\n",
    "You are provided a data set containing attributes related to automobiles as well as their corresponding prices. The task is to build a linear regression model from scratch that can estimate the price of an automobile (response variable) using its attributes (predictor variables).\n",
    "\n",
    "The file ``dataset_1_train.txt`` contains the training set that you can use to fit a regression model, and the file ``dataset_1_test.txt`` contains the test set that you can use to evaluate the model. In each file, the first two columns contain the predictors of the automobile, namely ``'horsepower'`` and ``'highway MPG'``, and the last column contains the automobile prices.\n",
    "\n",
    "- Implement the following two functions from scratch. \n",
    "\n",
    "    - ``multiple_linear_regression_fit``:\n",
    "\n",
    "        - takes as input: the training set, ``x_train``, ``y_train``\n",
    "\n",
    "        - fits a multiple linear regression model\n",
    "\n",
    "        - returns the model parameters (coefficients on the predictors, as an array, and the intercept, as a float).\n",
    "\n",
    "    - ``multiple_linear_regression_score``:\n",
    "\n",
    "        - takes model parameters (coefficients and intercept) and the test set, ``x_test`` ``y_test``, as inputs\n",
    "\n",
    "        - returns the R^2 score for the model on the test set, along with the predicted y-values.\n",
    "        \n",
    "- Use your functions to predict automobile prices and evaluate your predictions.\n",
    "\n",
    "**Note:** You **may not** use pre-built models or model evaluators for these tasks."
   ]
  },
  {
   "cell_type": "markdown",
   "metadata": {},
   "source": [
    "**Solution:**"
   ]
  },
  {
   "cell_type": "code",
   "execution_count": 19,
   "metadata": {
    "collapsed": false
   },
   "outputs": [
    {
     "name": "stdout",
     "output_type": "stream",
     "text": [
      "R^2 score on test set: 0.178\n"
     ]
    }
   ],
   "source": [
    "# Functions for fitting and evaluating multiple linear regression\n",
    "\n",
    "# --------  multiple_linear_regression_fit\n",
    "# A function for fitting a multiple linear regression\n",
    "# Fitted model: f(x) = x.w + c\n",
    "# Input:\n",
    "#      x_train (n x d array of predictors in training data)\n",
    "#      y_train (n x 1 array of response variable vals in training data)\n",
    "# Return:\n",
    "#      w (d x 1 array of coefficients)\n",
    "#      c (float representing intercept)\n",
    "\n",
    "def multiple_linear_regression_fit(x_train, y_train):\n",
    "    # Append a column of one's to x\n",
    "    n = x_train.shape[0]\n",
    "    ones_col = np.ones((n, 1))\n",
    "    x_train = np.concatenate((x_train, ones_col), axis=1)\n",
    "\n",
    "    # Compute transpose of x\n",
    "    x_transpose = x_train.T\n",
    "\n",
    "    # Compute coefficients: w = inv(x^T * x) x^T * y\n",
    "    # Compute intermediate term: inv(x^T * x)\n",
    "    # Note: We have to take pseudo-inverse (pinv), just in case x^T * x is not invertible\n",
    "    x_t_x_inv = np.linalg.pinv(x_transpose.dot(x_train))\n",
    "\n",
    "    # Compute w: inter_term * x^T * y\n",
    "    w = x_t_x_inv.dot(x_transpose).dot(y_train)\n",
    "\n",
    "    # Obtain intercept: 'c' (last index)\n",
    "    c = w[-1]\n",
    "\n",
    "    return w[:-1], c\n",
    "\n",
    "\n",
    "# --------  multiple_linear_regression_score\n",
    "# A function for evaluating R^2 score and MSE\n",
    "# of the linear regression model on a data set\n",
    "# Input:\n",
    "#      w (d x 1 array of coefficients)\n",
    "#      c (float representing intercept)\n",
    "#      x_test (n x d array of predictors in testing data)\n",
    "#      y_test (n x 1 array of response variable vals in testing data)\n",
    "# Return:\n",
    "#      r_squared (float)\n",
    "#      y_pred (n x 1 array of predicted y-vals)\n",
    "\n",
    "def multiple_linear_regression_score(w, c, x_test, y_test):\n",
    "    # Compute predicted labels\n",
    "    y_pred = x_test.dot(w) + c\n",
    "\n",
    "    # Evaluate squared error, against target labels\n",
    "    # sq_error = \\sum_i (y[i] - y_pred[i])^2\n",
    "    sq_error = np.square(y_test - y_pred).sum()\n",
    "\n",
    "    # Evaluate squared error for a predicting the mean value, against target labels\n",
    "    # variance = \\sum_i (y[i] - y_mean)^2\n",
    "    y_mean = y_test.mean()\n",
    "    y_variance = np.square(y_test - y_mean).sum()\n",
    "\n",
    "    # Evaluate R^2 score value\n",
    "    r_squared = 1 - sq_error / y_variance\n",
    "\n",
    "    return r_squared, y_pred\n",
    "\n",
    "\n",
    "def loadtxt(file_name):\n",
    "    return np.loadtxt('datasets/%s' % file_name, delimiter=',', skiprows=1)\n",
    "\n",
    "\n",
    "def split(data):\n",
    "    y = data[:, -1]\n",
    "    x = data[:, :-1]\n",
    "    return y, x\n",
    "\n",
    "\n",
    "def evaluate_model_prob_1a():\n",
    "    # Load train and test data sets\n",
    "    data_train = loadtxt('dataset_1_train.txt')\n",
    "    data_test = loadtxt('dataset_1_test.txt')\n",
    "\n",
    "    # Split predictors from response\n",
    "    # Training\n",
    "    y_train, x_train = split(data_train)\n",
    "\n",
    "    # Testing\n",
    "    y_test, x_test = split(data_test)\n",
    "\n",
    "    # Fit multiple linear regression model\n",
    "    w, c = multiple_linear_regression_fit(x_train, y_train)\n",
    "\n",
    "    # Evaluate model\n",
    "    r_squared, _ = multiple_linear_regression_score(w, c, x_test, y_test)\n",
    "\n",
    "    print 'R^2 score on test set: %.3f' % r_squared\n",
    "\n",
    "    \n",
    "evaluate_model_prob_1a()"
   ]
  },
  {
   "cell_type": "markdown",
   "metadata": {},
   "source": [
    "### Part (b): Confidence interval on regression parameters\n",
    "Using your linear regression implementation from Part (a), model the data in ``dataset_2.txt``, which contains five predictor variables in the first five columns, and the response variable in the last column.\n",
    "\n",
    "Compute confidence intervals for the model parameters you obtain:\n",
    "\n",
    "- Create 200 random subsamples of the data set of size 100, and use your function to fit a multiple linear regression model to each subsample. \n",
    "\n",
    "- For each coefficient on the predictor variables: plot a histogram of the values obtained across the subsamples, and calculate the confidence interval for the coefficients at a confidence level of 95%. \n",
    "\n",
    "- Highlight the mean coeffcient values and the end points of the confidence intervals using vertical lines on the histogram plot. How large is the spread of the coefficient values in the histograms, and how tight are the confidence intervals?\n",
    "\n",
    "- Use the formula for computing confidence intervals provided in class (or use ``statmodels``) to compute the the confidence intervals. Compare confidence intervals you find through simulation to the ones given by the formula (or ``statmodels``), are your results what you would expect?\n",
    "\n",
    "**Note:** You **may not** use pre-built models or model evaluators for these tasks."
   ]
  },
  {
   "cell_type": "markdown",
   "metadata": {},
   "source": [
    "**Solution:**"
   ]
  },
  {
   "cell_type": "code",
   "execution_count": 20,
   "metadata": {
    "collapsed": false
   },
   "outputs": [
    {
     "name": "stdout",
     "output_type": "stream",
     "text": [
      "Linear regression with all predictors\n"
     ]
    },
    {
     "data": {
      "image/png": "[encoded data removed]",
      "text/plain": [
       "<matplotlib.figure.Figure at 0x465e080>"
      ]
     },
     "metadata": {},
     "output_type": "display_data"
    }
   ],
   "source": [
    "from collections import namedtuple\n",
    "\n",
    "\n",
    "DatasetData = namedtuple('DatasetData', ['x', 'y'])\n",
    "\n",
    "\n",
    "def read_dataset_data(filename):\n",
    "    # Load train set\n",
    "    data = loadtxt(filename)\n",
    "\n",
    "    y, x = split(data)\n",
    "\n",
    "    return DatasetData(x, y)\n",
    "\n",
    "\n",
    "def plot_histograms_prob_1b():\n",
    "    np.random.seed(1090)\n",
    "\n",
    "    x, y = dataset_2_data\n",
    "\n",
    "    # Record size of the data set\n",
    "    n = x.shape[0]\n",
    "    d = x.shape[1]\n",
    "    subsample_size = 100\n",
    "\n",
    "    # No. of subsamples\n",
    "    num_samples = 200\n",
    "\n",
    "    # Linear regression with all 5 predictors\n",
    "\n",
    "    # Create a n x d array to store coefficients for 100 subsamples\n",
    "    coefs_multiple = np.zeros((num_samples, d))\n",
    "\n",
    "    print 'Linear regression with all predictors'\n",
    "\n",
    "    # Repeat for 200 subsamples\n",
    "    for i in range(num_samples):\n",
    "        # Generate a random subsample of <subsample_size> data points\n",
    "        random_indices = np.random.choice(n, subsample_size)\n",
    "        x_subsample = x[random_indices, :]\n",
    "        y_subsample = y[random_indices]\n",
    "\n",
    "        # Fit linear regression model on subsample\n",
    "        w, c = multiple_linear_regression_fit(x_subsample, y_subsample)\n",
    "\n",
    "        # Store the coefficient for the model we obtain\n",
    "        coefs_multiple[i, :] = w\n",
    "\n",
    "    # Plot histogram of coefficients, and report their confidence intervals\n",
    "    fig, axes = plt.subplots(1, d, figsize=(20, 3))\n",
    "\n",
    "    # Repeat for each coefficient\n",
    "    for j in range(d):\n",
    "        # Compute mean for the j-th coefficient from subsamples\n",
    "        coef_j_mean = coefs_multiple[:, j].mean()\n",
    "\n",
    "        # Compute confidence interval at 95% confidence level\n",
    "        conf_int_left = np.percentile(coefs_multiple[:, j], 2.5)\n",
    "        conf_int_right = np.percentile(coefs_multiple[:, j], 97.5)\n",
    "\n",
    "        # Plot histogram of coefficient values\n",
    "        ax = axes[j]\n",
    "        ax.hist(coefs_multiple[:, j], 15, alpha=0.5)\n",
    "\n",
    "        # Plot vertical lines at mean and left, right extremes of confidence interval\n",
    "        ax.axvline(x=coef_j_mean, linewidth=3)\n",
    "        ax.axvline(x=conf_int_left, linewidth=1, c='r')\n",
    "        ax.axvline(x=conf_int_right, linewidth=1, c='r')\n",
    "\n",
    "        # Set plot labels\n",
    "        ax.set_title('[%.4f, %.4f]' % (conf_int_left, conf_int_right))\n",
    "        ax.set_xlabel('Predictor %d' % (j + 1))\n",
    "        ax.set_ylabel('Frequency')\n",
    "\n",
    "    plt.show()\n",
    "\n",
    "\n",
    "dataset_2_data = read_dataset_data(\"dataset_2.txt\")\n",
    "plot_histograms_prob_1b()"
   ]
  },
  {
   "cell_type": "markdown",
   "metadata": {},
   "source": [
    "***How large is the spread of the coefficient values in the histograms, and how tight are the confidence intervals?***\n",
    "\n",
    "We don't have the context for the predictors, so absolute values of the spread of the coefficient values and confidence intervals don't tell us much. \n",
    "The distributions looks normal and centered around their means.\n",
    "We can say that Predictor 2, 3 and 5 are not significant here since the confidence intervals for their coefficients include zero."
   ]
  },
  {
   "cell_type": "code",
   "execution_count": 21,
   "metadata": {
    "collapsed": false
   },
   "outputs": [
    {
     "name": "stdout",
     "output_type": "stream",
     "text": [
      "the confidence interval for coefficient 1: [0.5528, 0.7504]\n",
      "the confidence interval for coefficient 2: [0.3522, 0.7497]\n",
      "the confidence interval for coefficient 3: [0.0889, 0.4734]\n",
      "the confidence interval for coefficient 4: [0.8098, 1.0985]\n",
      "the confidence interval for coefficient 5: [0.0785, 0.4884]\n"
     ]
    }
   ],
   "source": [
    "def compute_confidence_intervals_prob_1b():\n",
    "    x, y = dataset_2_data\n",
    "    d = x.shape[1]\n",
    "\n",
    "    # Add column of ones to x matrix\n",
    "    x = sm.add_constant(x)\n",
    "\n",
    "    # Create model for linear regression\n",
    "    model = sm.OLS(y, x)\n",
    "    # Fit model\n",
    "    fitted_model = model.fit()\n",
    "    # The confidence intervals for our five coefficients are contained in the last five\n",
    "    # rows of the fitted_model.conf_int() array\n",
    "    conf_int = fitted_model.conf_int()[1:, :]\n",
    "\n",
    "    for j in range(d):\n",
    "        print 'the confidence interval for coefficient %d: [%.4f, %.4f]' % (j + 1, conf_int[j][0], conf_int[j][1])\n",
    "\n",
    "        \n",
    "compute_confidence_intervals_prob_1b()"
   ]
  },
  {
   "cell_type": "markdown",
   "metadata": {},
   "source": [
    "***Compare confidence intervals you find through simulation to the ones given by the formula (or statmodels), are your results what you would expect?***\n",
    "\n",
    "The confidence intervals calculated for the whole dataset (n = 1000) are much narrower than the confidence intervals recieved through simulation (n = 200). We could have expected that because the sample size is larger => the standard error would be smaller => narrower confidence intervals for the coefficients.\n",
    "\n",
    "We must notice that all coefficient are significant now."
   ]
  },
  {
   "cell_type": "markdown",
   "metadata": {},
   "source": [
    "## Problem 2: Polynomial regression\n",
    "In this problem, we revisit a dataset from Homework 1 and fit polynomial regression models to it. The dataset is provided in the file ``dataset_3.txt``, which contains a single predictor variable ``x`` in the first column and the response variable ``y`` in the second column. \n",
    "\n",
    "### Part(a): Implement polynomial regression from scratch\n",
    "\n",
    "- Implement the following three functions from scratch:\n",
    "\n",
    "    - ``polynomial_regression_fit``:\n",
    "        - takes as input: training set, ``x_train``, ``y_train`` and the degree of the polynomial\n",
    "        - fits a polynomial regression model \n",
    "        - returns the model parameters (array of coefficients and the intercept)\n",
    "\n",
    "    - ``polynomial_regression_predict``: \n",
    "        - takes as input: the model parameters (array of coefficients and the intercept), the degree of the polynomial and the test set predictors ``x_test``\n",
    "        - returns the response values predicted by the model on the test set. \n",
    "\n",
    "    - ``polynomial_regression_score``: \n",
    "        - takes an array of predicted response values and the array of true response values ``y_test``\n",
    "        - returns R^2 score for the model on the test set, as well as the sum of squared errors\n",
    "\n",
    "- Fit polynomial regression models of degrees 3, 5, 10 and 25 to the data set. Visualize the original data along with the fitted models for the various degrees in the same plot. \n",
    "\n",
    "For this problem, you may either use the multiple linear regression functions implemented in the Problem 1 or use the in-built functions in ``sklearn``."
   ]
  },
  {
   "cell_type": "markdown",
   "metadata": {},
   "source": [
    "**Solution:**"
   ]
  },
  {
   "cell_type": "code",
   "execution_count": 49,
   "metadata": {
    "collapsed": false
   },
   "outputs": [
    {
     "data": {
      "image/png": "[encoded data removed]",
      "text/plain": [
       "<matplotlib.figure.Figure at 0x108057f0>"
      ]
     },
     "metadata": {},
     "output_type": "display_data"
    }
   ],
   "source": [
    "# polynomial regression fit\n",
    "\n",
    "def polynomial_regression_fit(x_train, y_train, degree_of_the_polynomial):\n",
    "    x_column = np.vstack(x_train)\n",
    "    poly_x = x_column\n",
    "    for exponent in range(2, degree_of_the_polynomial + 1):\n",
    "        new_column = np.power(x_column, exponent)\n",
    "        poly_x = np.hstack((poly_x, new_column))\n",
    "\n",
    "    linear_regression = Lin_Reg()\n",
    "    linear_regression.fit(poly_x, y_train)\n",
    "\n",
    "    return linear_regression.coef_, linear_regression.intercept_\n",
    "\n",
    "\n",
    "# polynomial regression predict\n",
    "\n",
    "def calculate_polynomial_value(coefs, intercept, x):\n",
    "    poly_sum = intercept\n",
    "    for i, coef in enumerate(coefs):\n",
    "        poly_sum += coef * pow(x, i + 1)\n",
    "    return poly_sum\n",
    "\n",
    "\n",
    "def polynomial_regression_predict(coefs, intercept, degree_of_the_polynomial, x_test):\n",
    "    return [calculate_polynomial_value(coefs, intercept, x) for x in x_test]\n",
    "\n",
    "\n",
    "# polynomial regression score\n",
    "\n",
    "def polynomial_regression_score(y_predicted, y_test):\n",
    "    rss = 0.0\n",
    "    tss = 0.0\n",
    "    y_mean = np.mean(y_test)\n",
    "    for predicted_value, actual_value in izip(y_predicted, y_test):\n",
    "        rss += (actual_value - predicted_value) ** 2\n",
    "        tss += (actual_value - y_mean) ** 2\n",
    "\n",
    "    r_squared = 1.0 - rss / tss\n",
    "    return r_squared, rss\n",
    "\n",
    "\n",
    "def read_dataset3_data():\n",
    "    data = loadtxt('dataset_3.txt')\n",
    "\n",
    "    y = data[:, -1]\n",
    "    x = data[:, 0]\n",
    "\n",
    "    return DatasetData(x, y)\n",
    "\n",
    "\n",
    "def fit_and_visualize_prob_2a():\n",
    "    x, y = dataset_3_data\n",
    "\n",
    "    degrees = [3, 5, 10, 25]\n",
    "\n",
    "    degrees_len = len(degrees)\n",
    "    _, axes = plt.subplots(degrees_len, 1, figsize=(8, 5 * degrees_len))\n",
    "\n",
    "    xs = np.linspace(0.01, 0.99)\n",
    "    for i, degree in enumerate(degrees):\n",
    "        ax = axes[i]\n",
    "        coefs, intercept = polynomial_regression_fit(x, y, degree)\n",
    "        ax.scatter(x, y, color='blue')\n",
    "\n",
    "        ax.plot(xs, polynomial_regression_predict(coefs, intercept, degree, xs), color='red')\n",
    "\n",
    "        ax.set_xlabel('x')\n",
    "        ax.set_ylabel('y')\n",
    "        ax.set_title('degree of the polynomial: %d' % degree)\n",
    "\n",
    "    plt.show()\n",
    "\n",
    "    \n",
    "dataset_3_data = read_dataset3_data()\n",
    "fit_and_visualize_prob_2a()"
   ]
  },
  {
   "cell_type": "markdown",
   "metadata": {},
   "source": [
    "We can see that the cubic polynomial fits nicely our data. The 5th degree polynomial looks about the same. As for 10th and 25th degree polynomials it seems that they overfit trying to fit the noise."
   ]
  },
  {
   "cell_type": "markdown",
   "metadata": {},
   "source": [
    "###  Part (b): Comparing training and test errors\n",
    "\n",
    "- Split the data set in Problem 2 each into training and test sets: use the first 50% of the data for training and the remaining for testing. \n",
    "\n",
    "\n",
    "- Fit polynomial models of varying degree ranging from 1 to 15 to the training sets. Evaluate  the various fits on **both** the training and the test sets. Plot both the R^2 score of the fitted polynomial models on the training and test sets as a functions of the degree. \n",
    "\n",
    "\n",
    "- Describe the relationship between degree of the polynomial model and the fit on both the training and testing data. Explain, based on the plot, what is the best polynomial model for the data."
   ]
  },
  {
   "cell_type": "markdown",
   "metadata": {},
   "source": [
    "**Solution:**"
   ]
  },
  {
   "cell_type": "code",
   "execution_count": 50,
   "metadata": {
    "collapsed": false
   },
   "outputs": [
    {
     "name": "stdout",
     "output_type": "stream",
     "text": [
      "degree:  1, train R^2: 0.74681, test R^2: 0.75310\n",
      "degree:  2, train R^2: 0.75907, test R^2: 0.75252\n",
      "degree:  3, train R^2: 0.91300, test R^2: 0.92461\n",
      "degree:  4, train R^2: 0.91833, test R^2: 0.91648\n",
      "degree:  5, train R^2: 0.91854, test R^2: 0.91675\n",
      "degree:  6, train R^2: 0.91854, test R^2: 0.91704\n",
      "degree:  7, train R^2: 0.91870, test R^2: 0.91686\n",
      "degree:  8, train R^2: 0.92171, test R^2: 0.91637\n",
      "degree:  9, train R^2: 0.92210, test R^2: 0.91257\n",
      "degree: 10, train R^2: 0.93079, test R^2: 0.91324\n",
      "degree: 11, train R^2: 0.93164, test R^2: 0.90665\n",
      "degree: 12, train R^2: 0.93530, test R^2: 0.89268\n",
      "degree: 13, train R^2: 0.93570, test R^2: 0.89390\n",
      "degree: 14, train R^2: 0.93601, test R^2: 0.89036\n",
      "degree: 15, train R^2: 0.93679, test R^2: 0.88430\n",
      "max test R^2, degree: 3, value: 0.92461\n"
     ]
    },
    {
     "data": {
      "image/png": "[encoded data removed]",
      "text/plain": [
       "<matplotlib.figure.Figure at 0x1067b630>"
      ]
     },
     "metadata": {},
     "output_type": "display_data"
    }
   ],
   "source": [
    "from itertools import izip\n",
    "\n",
    "\n",
    "def evaluate_polynomial_regression_fit(coefs, intercept, x_test, y_test, degree):\n",
    "    y_predicted = polynomial_regression_predict(coefs, intercept, degree, x_test)\n",
    "    return polynomial_regression_score(y_predicted, y_test)\n",
    "\n",
    "\n",
    "def train_test_split_by_index(data, index):\n",
    "    train = data[:index]\n",
    "    test = data[index:]\n",
    "    return train, test\n",
    "\n",
    "\n",
    "def plot_r_sq(ax, x_train, x_test, y_train, y_test, max_degree=15):\n",
    "    r_sq_train_list = []\n",
    "    r_sq_test_list = []\n",
    "    plot_degrees = []\n",
    "\n",
    "    degrees = range(1, max_degree + 1)\n",
    "    for degree in degrees:\n",
    "        coefs, intercept = polynomial_regression_fit(x_train, y_train, degree)\n",
    "        r_sq_train, _ = evaluate_polynomial_regression_fit(coefs, intercept, x_train, y_train, degree)\n",
    "        r_sq_test, _ = evaluate_polynomial_regression_fit(coefs, intercept, x_test, y_test, degree)\n",
    "        print 'degree: %2d, train R^2: %.5f, test R^2: %.5f' % (degree, r_sq_train, r_sq_test)\n",
    "\n",
    "        r_sq_train_list.append(r_sq_train)\n",
    "        r_sq_test_list.append(r_sq_test)\n",
    "        plot_degrees.append(degree)\n",
    "\n",
    "    max_r_sq_test = np.max(r_sq_test_list)\n",
    "    max_r_sq_test_degree = r_sq_test_list.index(max_r_sq_test) + 1\n",
    "    print 'max test R^2, degree: %d, value: %.5f' % (max_r_sq_test_degree, max_r_sq_test)\n",
    "\n",
    "    ax.plot(plot_degrees, r_sq_train_list, label='train')\n",
    "    ax.plot(plot_degrees, r_sq_test_list, label='test')\n",
    "    ax.legend(loc='lower right')\n",
    "    ax.set_xlabel('degree of the polynomial')\n",
    "    ax.set_ylabel('$R^2$')\n",
    "    ax.set_title('$R^2$ for the training and test sets as a function of the degree')\n",
    "\n",
    "\n",
    "def compare_errors_prob_2b():\n",
    "    x, y = dataset_3_data\n",
    "    mid_index = len(x) / 2\n",
    "\n",
    "    x_train, x_test = train_test_split_by_index(x, mid_index)\n",
    "    y_train, y_test = train_test_split_by_index(y, mid_index)\n",
    "\n",
    "    _, ax = plt.subplots(1, 1, figsize=(12, 6))\n",
    "\n",
    "    plot_r_sq(ax, x_train, x_test, y_train, y_test)\n",
    "\n",
    "    plt.show()\n",
    "\n",
    "    \n",
    "compare_errors_prob_2b()"
   ]
  },
  {
   "cell_type": "markdown",
   "metadata": {},
   "source": [
    "***Describe the relationship between degree of the polynomial model and the fit on both the training and testing data***\n",
    "\n",
    "Both the train and test R^2 jump when we go from quadratic (degree = 2) to cubic (degree = 3). Then train R^2 slowly increases further since it tries to fit the data closer and closer. The test R^2 slowly goes down (degree 3 and larger) due to overfitting (higher variance).\n",
    "\n",
    "***Explain, based on the plot, what is the best polynomial model for the data***\n",
    "\n",
    "For this we need to look at the best value for test R^2. It's for degree = 3 (test R^2 = 0.9246). The cubic polynomial is the best model for the data."
   ]
  },
  {
   "cell_type": "markdown",
   "metadata": {},
   "source": [
    "## Problem 3: Model selection criterion\n",
    "In this problem, we examine various criteria that help us decide how to choose between multiple models for the same data.\n",
    "\n",
    "###  Part (a): How does one choose the best polynomial degree?\n",
    "In Problem 2, you fitted polynomials of different degrees to the entire data set, and inspected the quality of fits on the test set. In practice, one needs to find the 'best' model for the given prediction task using **only** the training set. For this, we'll now make use of two model selection criteria, namely, the Akaike Information Criterion (AIC) and the Bayesian Information Criterion (BIC). These are evaluated on the training set, but serve as a proxy for the test set accuracy.\n",
    "\n",
    "For ``dataset_3.txt``, do the following:\n",
    "\n",
    "- For each polynomial model you fitted, compute the AIC and BIC for the model on the training set. Plot the criterion values as a function of the polynomial degree.\n",
    "\n",
    "\n",
    "- Which model is chosen by each criterion? Do they match with the model that yields maximum test R^2 score?"
   ]
  },
  {
   "cell_type": "markdown",
   "metadata": {},
   "source": [
    "**Solution:**"
   ]
  },
  {
   "cell_type": "code",
   "execution_count": 51,
   "metadata": {
    "collapsed": false
   },
   "outputs": [
    {
     "name": "stdout",
     "output_type": "stream",
     "text": [
      "degree:  1, AIC: -350.0, BIC: -347.4\n",
      "degree:  2, AIC: -349.7, BIC: -344.5\n",
      "degree:  3, AIC: -458.3, BIC: -450.4\n",
      "degree:  4, AIC: -457.3, BIC: -446.9\n",
      "degree:  5, AIC: -455.5, BIC: -442.5\n",
      "degree:  6, AIC: -454.8, BIC: -439.2\n",
      "degree:  7, AIC: -453.0, BIC: -434.8\n",
      "degree:  8, AIC: -452.5, BIC: -431.7\n",
      "degree:  9, AIC: -451.2, BIC: -427.8\n",
      "degree: 10, AIC: -453.5, BIC: -427.5\n",
      "degree: 11, AIC: -452.6, BIC: -423.9\n",
      "degree: 12, AIC: -450.6, BIC: -419.4\n",
      "degree: 13, AIC: -449.2, BIC: -415.3\n",
      "degree: 14, AIC: -449.6, BIC: -413.1\n",
      "degree: 15, AIC: -447.6, BIC: -408.5\n",
      "min aic, degree: 3, value: -458.25323\n",
      "min bic, degree: 3, value: -450.43772\n"
     ]
    },
    {
     "data": {
      "image/png": "[encoded data removed]",
      "text/plain": [
       "<matplotlib.figure.Figure at 0x161b8b38>"
      ]
     },
     "metadata": {},
     "output_type": "display_data"
    }
   ],
   "source": [
    "def compute_aic(n, rss, degree):\n",
    "    return n * np.log(rss / n) + 2 * degree\n",
    "\n",
    "\n",
    "def compute_bic(n, rss, degree):\n",
    "    return n * np.log(rss / n) + np.log(n) * degree\n",
    "\n",
    "\n",
    "def plot_aic_and_bic(ax, x, y, max_degree=15):\n",
    "    n = len(x)\n",
    "    aic_list = []\n",
    "    bic_list = []\n",
    "    degrees = range(1, max_degree + 1)\n",
    "    for degree in degrees:\n",
    "        coefs, intercept = polynomial_regression_fit(x, y, degree)\n",
    "        r_sq, rss = evaluate_polynomial_regression_fit(coefs, intercept, x, y, degree)\n",
    "        aic = compute_aic(n, rss, degree)\n",
    "        aic_list.append(aic)\n",
    "        bic = compute_bic(n, rss, degree)\n",
    "        bic_list.append(bic)\n",
    "        print 'degree: %2d, AIC: %.1f, BIC: %.1f' % (degree, aic, bic)\n",
    "\n",
    "    min_aic = np.min(aic_list)\n",
    "    min_aic_degree = aic_list.index(min_aic) + 1\n",
    "    print 'min aic, degree: %d, value: %.5f' % (min_aic_degree, min_aic)\n",
    "\n",
    "    min_bic = np.min(bic_list)\n",
    "    min_bic_degree = bic_list.index(min_bic) + 1\n",
    "    print 'min bic, degree: %d, value: %.5f' % (min_bic_degree, min_bic)\n",
    "\n",
    "    ax.plot(degrees, aic_list, label='AIC')\n",
    "    ax.plot(degrees, bic_list, label='BIC')\n",
    "    ax.legend(loc='upper right')\n",
    "    ax.set_xlabel('degree of the polynomial')\n",
    "    ax.set_title('AIC and BIC as functions of the degree')\n",
    "\n",
    "\n",
    "def compute_aic_and_bic():\n",
    "    x, y = dataset_3_data\n",
    "\n",
    "    _, ax = plt.subplots(1, 1, figsize=(12, 6))\n",
    "\n",
    "    plot_aic_and_bic(ax, x, y)\n",
    "\n",
    "    plt.show()\n",
    "\n",
    "    \n",
    "compute_aic_and_bic()"
   ]
  },
  {
   "cell_type": "markdown",
   "metadata": {},
   "source": [
    "***Which model is chosen by each criterion? Do they match with the model that yields maximum test R^2 score?***\n",
    "\n",
    "For both criteria the minimum is reached for degree = 3 (cubic polynomial). This result matches with the model that yields maximum test R^2 score (also degree = 3)."
   ]
  },
  {
   "cell_type": "markdown",
   "metadata": {},
   "source": [
    "### Part (b): Application to New York taxi cab density estimation\n",
    "\n",
    "We shall now apply the concepts learned so far to a real-world prediction task. You are asked to build a regression model for estimating the density of Green cab taxis at any given time of a day in New York city. The model needs to take the time of the day (in minutes) as input, and predict the expected number of pick ups at that time.\n",
    "\n",
    "The data set for this problem can be downloaded from the following URL: https://s3.amazonaws.com/nyc-tlc/trip+data/green_tripdata_2015-01.csv. The file contains the details of all pickups by Green cabs in New York City during January 2015. "
   ]
  },
  {
   "cell_type": "markdown",
   "metadata": {},
   "source": [
    "**Solution:**"
   ]
  },
  {
   "cell_type": "code",
   "execution_count": null,
   "metadata": {
    "collapsed": false,
    "scrolled": false
   },
   "outputs": [],
   "source": [
    "from collections import Counter\n",
    "from sklearn.cross_validation import train_test_split\n",
    "\n",
    "\n",
    "def normalize(xs):\n",
    "    xs = np.array(xs, dtype=float)\n",
    "    min_x = xs.min()\n",
    "    max_x = xs.max()\n",
    "    return [(x - min_x) / max_x for x in xs]\n",
    "\n",
    "\n",
    "def get_counter_data(nrows=None):\n",
    "    df = pd.read_csv('green_tripdata_2015-01.csv', header=0, index_col=False, usecols=['lpep_pickup_datetime'],\n",
    "                     parse_dates=['lpep_pickup_datetime'], nrows=nrows)\n",
    "\n",
    "    day_minute_list = []\n",
    "    for index, row in df.iterrows():\n",
    "        datetime = row[0]\n",
    "        minute = datetime.minute\n",
    "        hour = datetime.hour\n",
    "        day_minute = minute + 60 * hour\n",
    "        day_minute_list.append(day_minute)\n",
    "\n",
    "    counter = Counter(day_minute_list)\n",
    "    xs, ys = zip(*counter.items())\n",
    "\n",
    "    return normalize(xs), ys\n",
    "\n",
    "\n",
    "def taxicab_density_estimation(xs, ys):\n",
    "    np.random.seed(1090)\n",
    "\n",
    "    degrees = [1, 5, 10, 20, 40]\n",
    "    len_degrees = len(degrees)\n",
    "    num_axes = 3 + len_degrees\n",
    "    _, axes = plt.subplots(num_axes, 1, figsize=(10, 5 * num_axes))\n",
    "\n",
    "    ax0 = axes[0]\n",
    "    ax0.plot(xs, ys)\n",
    "    ax0.set_xlabel('time of the day (in minutes)')\n",
    "    ax0.set_ylabel('number of pickups')\n",
    "\n",
    "    x_train, x_test, y_train, y_test = train_test_split(xs, ys, train_size=0.7)\n",
    "\n",
    "    max_degree = 40\n",
    "    plot_r_sq(axes[1], x_train, x_test, y_train, y_test, max_degree=max_degree)\n",
    "    plot_aic_and_bic(axes[2], xs, ys, max_degree)\n",
    "\n",
    "    lin_xs = np.linspace(0.0, 1.0)\n",
    "    for i, degree in enumerate(degrees):\n",
    "        ax = axes[3 + i]\n",
    "        coefs, intercept = polynomial_regression_fit(xs, ys, degree)\n",
    "        ax.scatter(xs, ys, color='blue')\n",
    "\n",
    "        ax.plot(lin_xs, polynomial_regression_predict(coefs, intercept, degree, lin_xs), color='red')\n",
    "\n",
    "        ax.set_xlabel('x')\n",
    "        ax.set_ylabel('y')\n",
    "        ax.set_title('degree of the polynomial: %d' % degree)\n",
    "\n",
    "    plt.tight_layout()\n",
    "    plt.show()\n",
    "\n",
    "    \n",
    "counter_xs, counter_ys = get_counter_data()\n",
    "taxicab_density_estimation(counter_xs, counter_ys)"
   ]
  },
  {
   "cell_type": "markdown",
   "metadata": {},
   "source": []
  },
  {
   "cell_type": "markdown",
   "metadata": {},
   "source": [
    "## Challenge Problem: Advanced regression techniques\n",
    "In this problem, we revisit the automobile pricing data set in Problem 1(a) and explore advanced regression techniques to build better models. \n",
    "\n",
    "\n",
    "### Part (a): Polynomial regression on multi-dimensions\n",
    "In Problems 2-3, you had implemented a polynomial regression technique for data sets with a single predictor variable. How would you use a similar approach to fit a polynomial model on data sets with more than one predictor?\n",
    "\n",
    "Reload ``dataset_1_train.txt`` and ``dataset_1_test.txt``. Fit polynomial models of degrees 2 and 3 to the training set, and evaluate the R^2 score of the fitted model on the test set. How do they compare with the test performance of a linear regression model?"
   ]
  },
  {
   "cell_type": "markdown",
   "metadata": {},
   "source": [
    "### Part (b): Weighted linear regression\n",
    "\n",
    "Suppose you are told that some of the prices recorded in the training set are noisy, and you are given the list of noisy points, how would you use this information during training to fit a better regression model?\n",
    "\n",
    "The noise level for each training point is provided in the file dataset_1_train_noise_levels.txt. A noise level 'none' indicates that the price is accurate, and a noise level 'noisy' indicates that the price is only moderately accurate. \n",
    "\n",
    "We want to fit a linear regression model that accounts for this new information. One way to do this is to assign different weights to each training point based on the amount of noise associated to that training point. That is, our loss function is now\n",
    "$$\n",
    "\\sum_{i=1}^n \\alpha_i\\,(y_i \\,-\\, w^T x_i)^2\n",
    "$$\n",
    "where $\\alpha_i$ is a number representing how much you value the contribution of the data point $x_i$.\n",
    "\n",
    "How does the R^2 score (evaluated on the test set) of the new linear model compare to the one fitted using plain linear regression?"
   ]
  }
 ],
 "metadata": {
  "anaconda-cloud": {},
  "kernelspec": {
   "display_name": "Python 2",
   "language": "python",
   "name": "python2"
  },
  "language_info": {
   "codemirror_mode": {
    "name": "ipython",
    "version": 2
   },
   "file_extension": ".py",
   "mimetype": "text/x-python",
   "name": "python",
   "nbconvert_exporter": "python",
   "pygments_lexer": "ipython2",
   "version": "2.7.12"
  }
 },
 "nbformat": 4,
 "nbformat_minor": 0
}
