{
 "cells": [
  {
   "cell_type": "markdown",
   "metadata": {},
   "source": [
    "# CS 109A/AC 209A/STAT 121A Data Science: Homework 4\n",
    "**Harvard University**<br>\n",
    "**Fall 2016**<br>\n",
    "**Instructors: W. Pan, P. Protopapas, K. Rader**<br>\n",
    "**Due Date: ** Wednesday, October 5th, 2016 at 11:59pm"
   ]
  },
  {
   "cell_type": "markdown",
   "metadata": {},
   "source": [
    "Download the `IPython` notebook as well as the data file from Vocareum and complete locally.\n",
    "\n",
    "To submit your assignment, in Vocareum, upload (using the 'Upload' button on your Jupyter Dashboard) your solution to Vocareum as a single notebook with following file name format:\n",
    "\n",
    "`last_first_CourseNumber_HW4.ipynb`\n",
    "\n",
    "where `CourseNumber` is the course in which you're enrolled (CS 109a, Stats 121a, AC 209a). Submit your assignment in Vocareum using the 'Submit' button.\n",
    "\n",
    "**Avoid editing your file in Vocareum after uploading. If you need to make a change in a solution. Delete your old solution file from Vocareum and upload a new solution. Click submit only ONCE after verifying that you have uploaded the correct file. The assignment will CLOSE after you click the submit button.**\n",
    "\n",
    "Problems on homework assignments are equally weighted. The Challenge Question is required for AC 209A students and optional for all others. Student who complete the Challenge Problem as optional extra credit will receive +0.5% towards your final grade for each correct solution. "
   ]
  },
  {
   "cell_type": "markdown",
   "metadata": {},
   "source": [
    "Import libraries"
   ]
  },
  {
   "cell_type": "code",
   "execution_count": 1,
   "metadata": {
    "collapsed": false
   },
   "outputs": [],
   "source": [
    "import numpy as np\n",
    "import pandas as pd\n",
    "from sklearn.linear_model import LinearRegression as Lin_Reg\n",
    "from sklearn.linear_model import Ridge as Ridge_Reg\n",
    "from sklearn.linear_model import Lasso as Lasso_Reg\n",
    "from statsmodels.regression.linear_model import OLS\n",
    "import sklearn.preprocessing as Preprocessing\n",
    "import itertools as it\n",
    "import matplotlib\n",
    "import matplotlib.pyplot as plt\n",
    "import matplotlib.cm as cmx\n",
    "import matplotlib.colors as colors\n",
    "import scipy as sp\n",
    "from itertools import combinations\n",
    "%matplotlib inline"
   ]
  },
  {
   "cell_type": "markdown",
   "metadata": {},
   "source": [
    "## Problem 0: Basic Information\n",
    "\n",
    "Fill in your basic information. \n",
    "\n",
    "### Part (a): Your name"
   ]
  },
  {
   "cell_type": "markdown",
   "metadata": {},
   "source": [
    "[Zambalayev, Timur]"
   ]
  },
  {
   "cell_type": "markdown",
   "metadata": {},
   "source": [
    "### Part (b): Course Number"
   ]
  },
  {
   "cell_type": "markdown",
   "metadata": {},
   "source": [
    "[CSCI E-109a]"
   ]
  },
  {
   "cell_type": "markdown",
   "metadata": {},
   "source": [
    "### Part (c): Who did you work with?"
   ]
  },
  {
   "cell_type": "markdown",
   "metadata": {},
   "source": [
    "[]"
   ]
  },
  {
   "cell_type": "markdown",
   "metadata": {},
   "source": [
    "**All data sets can be found in the ``datasets`` folder and are in comma separated value (CSV) format**"
   ]
  },
  {
   "cell_type": "markdown",
   "metadata": {},
   "source": [
    "## Problem 1: Variable selection and regularization\n",
    "\n",
    "The data set for this problem is provided in ``dataset_1.txt`` and contains 10 predictors and a response variable.\n",
    "\n",
    "### Part (a): Analyze correlation among predictors\n",
    "- By visually inspecting the data set, do find that some of the predictors are correlated amongst themselves?\n",
    "\n",
    "\n",
    "- Compute the cofficient of correlation between each pair of predictors, and visualize the matrix of correlation coefficients using a heat map. Do the predictors fall naturally into groups based on the correlation values?\n",
    "\n",
    "\n",
    "- If you were asked to select a minimal subset of predictors based on the correlation information in order to build a good regression model, how many predictors will you pick, and which ones will you choose? "
   ]
  },
  {
   "cell_type": "markdown",
   "metadata": {},
   "source": [
    "**Solution:**"
   ]
  },
  {
   "cell_type": "code",
   "execution_count": 2,
   "metadata": {
    "collapsed": false
   },
   "outputs": [
    {
     "name": "stdout",
     "output_type": "stream",
     "text": [
      "first 10 rows:\n",
      "[[ 0.95935688  0.95935688  0.95935688  0.34372695  0.52408328  0.53776781\n",
      "   0.43559824  0.83199927  0.15324701  0.00501577]\n",
      " [ 0.6169695   0.6169695   0.6169695   0.28737557  0.51384368  0.49777511\n",
      "   0.45273244  0.91460929  0.36738984  0.444473  ]\n",
      " [ 0.99594053  0.99594053  0.99594053  0.10729412  0.0971065   0.14675084\n",
      "   0.13641377  0.63592648  0.5352095   0.89945713]\n",
      " [ 0.82173155  0.82173155  0.82173155  0.20255776  0.32950426  0.35947128\n",
      "   0.28145288  0.10626341  0.47932701  0.25627126]\n",
      " [ 0.30242269  0.30242269  0.30242269  0.18456376  0.27026295  0.29338515\n",
      "   0.26386634  0.37862981  0.74024145  0.46858931]\n",
      " [ 0.03763453  0.03763453  0.03763453  0.33779404  0.61511664  0.56764403\n",
      "   0.58995459  0.64830983  0.06158611  0.56185078]\n",
      " [ 0.54811654  0.54811654  0.54811654  0.11626237  0.11359164  0.08762936\n",
      "   0.11138565  0.9282435   0.12174737  0.22162753]\n",
      " [ 0.89282671  0.89282671  0.89282671  0.28155135  0.41668107  0.34884158\n",
      "   0.3518005   0.59422044  0.71221859  0.88587581]\n",
      " [ 0.74263799  0.74263799  0.74263799  0.3462708   0.50147076  0.46148795\n",
      "   0.47303945  0.15411911  0.75418325  0.61593037]\n",
      " [ 0.01902749  0.01902749  0.01902749  0.09067542  0.09267384  0.07781907\n",
      "   0.09477031  0.29587777  0.70593236  0.86574139]]\n"
     ]
    },
    {
     "data": {
      "image/png": "[encoded data removed]",
      "text/plain": [
       "<matplotlib.figure.Figure at 0x115daef90>"
      ]
     },
     "metadata": {},
     "output_type": "display_data"
    }
   ],
   "source": [
    "from collections import namedtuple\n",
    "\n",
    "\n",
    "Dataset_1_Data = namedtuple('Dataset_1_Data', ['x', 'y'])\n",
    "\n",
    "\n",
    "def load_dataset_1():\n",
    "    # Load data\n",
    "    data = np.loadtxt('datasets/dataset_1.txt', delimiter=',', skiprows=1)\n",
    "\n",
    "    # Split predictors and response\n",
    "    x = data[:, :-1]\n",
    "    y = data[:, -1]\n",
    "\n",
    "    return Dataset_1_Data(x, y)\n",
    "\n",
    "\n",
    "def heatmap_prob_1a(dataset_1_data):\n",
    "    x = dataset_1_data.x\n",
    "    \n",
    "    print 'first 10 rows:\\n', x[:10]\n",
    "\n",
    "    # Compute matrix of correlation coefficients\n",
    "    corr_matrix = np.corrcoef(x.T)\n",
    "\n",
    "    # Display heat map\n",
    "    _, ax = plt.subplots(1, 1, figsize=(6, 6))\n",
    "\n",
    "    ax.pcolor(corr_matrix)\n",
    "    ax.set_title('Heatmap of correlation matrix')\n",
    "\n",
    "    plt.show()\n",
    "\n",
    "    \n",
    "dataset_1_data = load_dataset_1()\n",
    "heatmap_prob_1a(dataset_1_data)"
   ]
  },
  {
   "cell_type": "markdown",
   "metadata": {},
   "source": [
    "***By visually inspecting the data set, do you find that some of the predictors are correlated amongst themselves?***\n",
    "\n",
    "You can notice that the first three predictors have the same value. For other predictors it's difficult to say just by looking at numbers.\n",
    "\n",
    "By examining the heatmap of the correlation matrix we can say that predictors x1, x2 and x3 are highly correlated to each other, the next four predictors (x4, x5, x6, x7) are also highly correlated to each other.\n",
    "\n",
    "***If you were asked to select a minimal subset of predictors based on the correlation information in order to build a good regression model, how many predictors will you pick, and which ones will you choose?***\n",
    "\n",
    "I would choose 5 predictors (one from {x1, x2, x3} group, one from {x4, x5, x6, x7} and the rest - x8, x9, x10). If we have a group of highly correlated to each other predictors, we need only one predictor from that group."
   ]
  },
  {
   "cell_type": "markdown",
   "metadata": {},
   "source": [
    "### Part (b): Selecting minimal subset of predictors\n",
    "\n",
    "- Apply the variable selection methods discussed in class to choose a minimal subset of predictors that yield high prediction accuracy:\n",
    "    \n",
    "    - Exhaustive search\n",
    "    \n",
    "    - Step-wise forward selection **or** Step-wise backward selection  \n",
    "\n",
    "&emsp;&nbsp;&nbsp; In each method, use the Bayesian Information Criterion (BIC) to choose the subset size.\n",
    "\n",
    "- Do the chosen subsets match the ones you picked using the correlation matrix you had visualized in Part (a)?\n",
    "\n",
    "**Note**: You may use the `statsmodels`'s `OLS` module to fit a linear regression model and evaluate BIC. You may **not** use library functions that implement variable selection."
   ]
  },
  {
   "cell_type": "markdown",
   "metadata": {},
   "source": [
    "**Solution:**"
   ]
  },
  {
   "cell_type": "code",
   "execution_count": 3,
   "metadata": {
    "collapsed": false
   },
   "outputs": [
    {
     "name": "stdout",
     "output_type": "stream",
     "text": [
      "k:  1, bic: -36.720, R^2: 0.369, subset: (8,), \n",
      "k:  2, bic: -61.732, R^2: 0.531, subset: (8, 9), \n",
      "k:  3, bic: -65.729, R^2: 0.570, subset: (5, 8, 9), \n",
      "k:  4, bic: -71.008, R^2: 0.610, subset: (5, 7, 8, 9), \n",
      "k:  5, bic: -72.366, R^2: 0.633, subset: (0, 5, 7, 8, 9), \n",
      "k:  6, bic: -70.355, R^2: 0.642, subset: (0, 3, 5, 7, 8, 9), \n",
      "k:  7, bic: -66.159, R^2: 0.644, subset: (0, 3, 5, 6, 7, 8, 9), \n",
      "k:  8, bic: -61.803, R^2: 0.645, subset: (0, 3, 4, 5, 6, 7, 8, 9), \n",
      "k:  9, bic: -61.803, R^2: 0.645, subset: (0, 1, 3, 4, 5, 6, 7, 8, 9), \n",
      "k: 10, bic: -61.803, R^2: 0.645, subset: (0, 1, 2, 3, 4, 5, 6, 7, 8, 9), \n",
      "Best subset by exhaustive search: (0, 5, 7, 8, 9), bic: -72.366, R^2: 0.633\n"
     ]
    }
   ],
   "source": [
    "import statsmodels.api as sm\n",
    "\n",
    "\n",
    "def get_regression_results(predictor_subset, x, y):\n",
    "    # Use only a subset of predictors in the training data\n",
    "    x_subset = x[:, predictor_subset]\n",
    "\n",
    "    # Fit and evaluate R^2\n",
    "    model = sm.OLS(y, sm.add_constant(x_subset))\n",
    "\n",
    "    return model.fit()\n",
    "\n",
    "\n",
    "def get_best_k_subset(predictor_set, size_k, x, y):\n",
    "    # Create all possible subsets of size 'size',\n",
    "    # using the 'combination' function from the 'itertools' library\n",
    "    subsets_of_size_k = it.combinations(predictor_set, size_k)\n",
    "\n",
    "    max_r_squared = -float('inf')  # set some initial small value for max R^2 score\n",
    "    best_k_subset = []  # best subset of predictors of size k\n",
    "    best_results = None\n",
    "\n",
    "    # Iterate over all subsets of our predictor set\n",
    "    for predictor_subset in subsets_of_size_k:\n",
    "        results = get_regression_results(predictor_subset, x, y)\n",
    "        r_squared = results.rsquared\n",
    "\n",
    "        # Update max R^2 and best predictor subset of size k\n",
    "        # If current predictor subset has a higher R^2 score than that of the best subset\n",
    "        # we've found so far, remember the current predictor subset as the best!\n",
    "        if r_squared > max_r_squared:\n",
    "            max_r_squared = r_squared\n",
    "            best_k_subset = predictor_subset\n",
    "            best_results = results\n",
    "\n",
    "    return best_k_subset, best_results\n",
    "\n",
    "\n",
    "def get_results_stats(results):\n",
    "    return 'bic: %.3f, R^2: %.3f' % (results.bic, results.rsquared)\n",
    "\n",
    "\n",
    "def exhaustive_search_prob_1b(dataset_1_data):\n",
    "    x = dataset_1_data.x\n",
    "    y = dataset_1_data.y\n",
    "\n",
    "    # Best Subset Selection\n",
    "    min_bic = float('inf')  # set some initial large value for min BIC score\n",
    "    best_subset = []  # best subset of predictors\n",
    "    best_results = None\n",
    "\n",
    "    num_predictors = x.shape[1]\n",
    "\n",
    "    # Create all possible subsets of the set of <num_predictors> predictors\n",
    "    predictor_set = range(num_predictors)  # e.g. predictor set = [0, 1, 2, 3, 4, 5, 6, 7, 8, 9]\n",
    "\n",
    "    # Repeat for every possible size of subset\n",
    "    for size_k in range(1, num_predictors + 1):\n",
    "        k_subset, results = get_best_k_subset(predictor_set, size_k, x, y)\n",
    "\n",
    "        bic = results.bic\n",
    "\n",
    "        # Update minimum BIC and best predictor subset\n",
    "        # If current predictor has a lower BIC score than that of the best subset\n",
    "        # we've found so far, remember the current predictor as the best!\n",
    "        if bic < min_bic:\n",
    "            min_bic = bic\n",
    "            best_subset = k_subset\n",
    "            best_results = results\n",
    "\n",
    "        print 'k: %2d, %s, subset: %s, ' % (size_k, get_results_stats(results), str(k_subset))\n",
    "\n",
    "    print 'Best subset by exhaustive search: %s, %s' % (str(best_subset), get_results_stats(best_results))\n",
    "\n",
    "    \n",
    "exhaustive_search_prob_1b(dataset_1_data)"
   ]
  },
  {
   "cell_type": "code",
   "execution_count": 4,
   "metadata": {
    "collapsed": false
   },
   "outputs": [
    {
     "name": "stdout",
     "output_type": "stream",
     "text": [
      "size: 0, bic: -36.720, R^2: 0.369, subset: [8], \n",
      "size: 1, bic: -61.732, R^2: 0.531, subset: [8, 9], \n",
      "size: 2, bic: -65.729, R^2: 0.570, subset: [8, 9, 5], \n",
      "size: 3, bic: -71.008, R^2: 0.610, subset: [8, 9, 5, 7], \n",
      "size: 4, bic: -72.366, R^2: 0.633, subset: [8, 9, 5, 7, 0], \n",
      "size: 5, bic: -70.355, R^2: 0.642, subset: [8, 9, 5, 7, 0, 3], \n",
      "size: 6, bic: -66.159, R^2: 0.644, subset: [8, 9, 5, 7, 0, 3, 6], \n",
      "size: 7, bic: -61.803, R^2: 0.645, subset: [8, 9, 5, 7, 0, 3, 6, 4], \n",
      "size: 8, bic: -61.803, R^2: 0.645, subset: [8, 9, 5, 7, 0, 3, 6, 4, 1], \n",
      "size: 9, bic: -61.803, R^2: 0.645, subset: [8, 9, 5, 7, 0, 3, 6, 4, 1, 2], \n",
      "Best step-wise forward subset selection: [0, 5, 7, 8, 9], bic: -61.803, R^2: 0.645\n"
     ]
    }
   ],
   "source": [
    "def find_best_predictor_to_add(current_predictors, remaining_predictors, x, y):\n",
    "    max_r_squared = -float('inf')  # set some initial small value for max R^2\n",
    "    best_predictor = -1  # set some throwaway initial number for the best predictor to add\n",
    "    best_results = None\n",
    "\n",
    "    # Iterate over all remaining predictors to find best predictor to add\n",
    "    for i in remaining_predictors:\n",
    "        # Make copy of current set of predictors\n",
    "        predictor_subset = current_predictors[:]\n",
    "        # Add predictor 'i'\n",
    "        predictor_subset.append(i)\n",
    "\n",
    "        results = get_regression_results(predictor_subset, x, y)\n",
    "        r_squared = results.rsquared\n",
    "\n",
    "        # Check if we get a higher R^2 value than than current max R^2, if so, update\n",
    "        if r_squared > max_r_squared:\n",
    "            max_r_squared = r_squared\n",
    "            best_predictor = i\n",
    "            best_results = results\n",
    "\n",
    "    return best_predictor, best_results\n",
    "\n",
    "\n",
    "def stepwise_forward_selection_prob_1b(dataset_1_data):\n",
    "    x = dataset_1_data.x\n",
    "    y = dataset_1_data.y\n",
    "\n",
    "    # Step-wise Forward Selection\n",
    "    d = x.shape[1]  # total no. of predictors\n",
    "\n",
    "    # Keep track of current set of chosen predictors, and the remaining set of predictors\n",
    "    current_predictors = []\n",
    "    remaining_predictors = range(d)\n",
    "\n",
    "    # Set some initial large value for min BIC score for all possible subsets\n",
    "    min_bic = float('inf')\n",
    "    results = None\n",
    "\n",
    "    # Keep track of the best subset of predictors\n",
    "    best_subset = []\n",
    "\n",
    "    # Iterate over all possible subset sizes, 0 predictors to d predictors\n",
    "    for size in range(d):\n",
    "        predictor, results = find_best_predictor_to_add(current_predictors, remaining_predictors, x, y)\n",
    "\n",
    "        # Remove best predictor from remaining list, and add best predictor to current list\n",
    "        remaining_predictors.remove(predictor)\n",
    "        current_predictors.append(predictor)\n",
    "\n",
    "        print 'size: %d, %s, subset: %s, ' % (size, get_results_stats(results), str(current_predictors))\n",
    "\n",
    "        # Check if BIC for with the predictor we just added is lower than\n",
    "        # the global minimum across all subset of predictors\n",
    "        if results.bic < min_bic:\n",
    "            best_subset = current_predictors[:]\n",
    "            min_bic = results.bic\n",
    "            results = results\n",
    "\n",
    "    print 'Best step-wise forward subset selection: %s, %s' % (str(sorted(best_subset)), get_results_stats(results))\n",
    "\n",
    "    \n",
    "stepwise_forward_selection_prob_1b(dataset_1_data)"
   ]
  },
  {
   "cell_type": "markdown",
   "metadata": {},
   "source": [
    "***Do the chosen subsets match the ones you picked using the correlation matrix you had visualized in Part (a)?***\n",
    "\n",
    "Both methods returned the same set of predictors (x1, x6, x8, x9, x10) and they match the criteria set in part (a), that is x1 is one predictor from the first group of predictors correlated to each other (x1, x2, x3) and x6 is from the second group (x4, x5, x6, x7)."
   ]
  },
  {
   "cell_type": "markdown",
   "metadata": {},
   "source": [
    "### Part (c): Apply Lasso and Ridge regression\n",
    "\n",
    "- Apply Lasso regression with regularization parameter $\\lambda = 0.01$ and fit a regression model.\n",
    "\n",
    "    - Identify the predictors that are assigned non-zero coefficients. Do these correspond to  the correlation matrix in Part (a)?\n",
    "\n",
    "\n",
    "- Apply Ridge regression with regularization parameter $\\lambda = 0.01$ and fit a regression model.\n",
    "\n",
    "    - Is there a difference between the model parameters you obtain different and those obtained from Lasso regression? If so, explain why.\n",
    "\n",
    "    - Identify the predictors that are assigned non-zero coefficients. Do these correspond to  the correlation matrix in Part (a)?\n",
    "\n",
    "\n",
    "- Is there anything peculiar that you observe about the coefficients Ridge regression assigns to the first three predictors? Do you observe the same with Lasso regression? Give an explanation for your observation.\n",
    "\n",
    "**Note**: You may use the `statsmodels` or `sklearn` to perform Lasso and Ridge regression."
   ]
  },
  {
   "cell_type": "markdown",
   "metadata": {},
   "source": [
    "**Solution:**"
   ]
  },
  {
   "cell_type": "code",
   "execution_count": 5,
   "metadata": {
    "collapsed": false
   },
   "outputs": [
    {
     "name": "stdout",
     "output_type": "stream",
     "text": [
      "Lasso:\n",
      "Coefficients: [ 0.02717417  0.          0.         -0.         -0.02532806 -0.         -0.\n",
      "  0.04397321 -0.40612185 -0.22260474]\n",
      "Predictors with non-zero coefficients: [0, 4, 7, 8, 9]\n"
     ]
    }
   ],
   "source": [
    "def lasso_regression_prob_1c(dataset_1_data):\n",
    "    x = dataset_1_data.x\n",
    "    y = dataset_1_data.y\n",
    "\n",
    "    # Lasso regression\n",
    "    reg = Lasso_Reg(alpha=0.01)\n",
    "    reg.fit(x, y)\n",
    "    coefficients = reg.coef_\n",
    "\n",
    "    print 'Lasso:'\n",
    "    print 'Coefficients:', coefficients\n",
    "    print 'Predictors with non-zero coefficients:', [i for i, item in enumerate(coefficients) if abs(item) > 0]\n",
    "\n",
    "\n",
    "lasso_regression_prob_1c(dataset_1_data)"
   ]
  },
  {
   "cell_type": "markdown",
   "metadata": {},
   "source": [
    "The subset of predictors chosen by Lasso agrees with the correlation matrix we visualize in Part (a). That is, the best predictor subset contains five predictors, with **one predictor from each group of correlated predictors**."
   ]
  },
  {
   "cell_type": "code",
   "execution_count": 6,
   "metadata": {
    "collapsed": false
   },
   "outputs": [
    {
     "name": "stdout",
     "output_type": "stream",
     "text": [
      "Ridge:\n",
      "Coefficients: [ 0.04353543  0.04353543  0.04353543  0.55217415 -0.19706852 -0.61421737\n",
      "  0.30484213  0.18742866 -0.50083242 -0.35908145]\n",
      "Predictors with non-zero coefficients: [0, 1, 2, 3, 4, 5, 6, 7, 8, 9]\n"
     ]
    }
   ],
   "source": [
    "def ridge_regression_prob_1c(dataset_1_data):\n",
    "    x = dataset_1_data.x\n",
    "    y = dataset_1_data.y\n",
    "\n",
    "    # Ridge regression: Fit and evaluate\n",
    "    reg = Ridge_Reg(alpha=0.01)\n",
    "    reg.fit(x, y)\n",
    "    coefficients = reg.coef_\n",
    "\n",
    "    print 'Ridge:'\n",
    "    print 'Coefficients:', coefficients\n",
    "    print 'Predictors with non-zero coefficients:', [i for i, item in enumerate(coefficients) if abs(item) > 0]\n",
    "\n",
    "\n",
    "ridge_regression_prob_1c(dataset_1_data)"
   ]
  },
  {
   "cell_type": "markdown",
   "metadata": {},
   "source": [
    "***Is there a difference between the model parameters obtained from Ridge regression and those obtained from Lasso regression? If so, explain why.***\n",
    "\n",
    "The ridge regression model coefficients are all non-zero, whereas some of the coefficients obtained from the lasso regression equal zero. The ridge regression coefficients are getting closer to zero as the tuning parameter gets larger. In contrast lasso regression model coefficients can become zero as the tuning/regularization parameter gets larger.\n",
    "\n",
    "***Identify the predictors that are assigned non-zero coefficients. Do these correspond to the correlation matrix in Part (a)?***\n",
    "\n",
    "All predictors have non-zero coefficients. The ridge regression doesn't do variable selection.\n",
    "\n",
    "***Is there anything peculiar that you observe about the coefficients Ridge regression assigns to the first three predictors? Do you observe the same with Lasso regression? Give an explanation for your observation.***\n",
    "\n",
    "For ridge regression the first three predictors have exactly the same coefficients. For the lasso regression only of those coefficients are non-zero. This is because the lasso regression can do variable selection and ridge regression doesn't. It only makes sure that the coefficients are within the limits set by the tuning parameter."
   ]
  },
  {
   "cell_type": "markdown",
   "metadata": {},
   "source": [
    "## Problem 2: Cross-validation and Bootstrapping\n",
    "In this problem, you will work with an expanded version of the automobile pricing data set you analyzed in Homework 3. The data set is contained ``dataset_2.txt``, with 26 attribues (i.e. predictors) for each automobile and corresponding prices. \n",
    "\n",
    "### Part(a): Encode categorical attributes and fill missing values\n",
    "Identify the categorical attributes in the data. Replace their values with the one-hot binary encoding. You may do this using the `get_dummies()` function in `pandas`. If you do this task correctly, you should get a total of 69 predictors after the encoding.\n"
   ]
  },
  {
   "cell_type": "markdown",
   "metadata": {},
   "source": [
    "**Solution:**"
   ]
  },
  {
   "cell_type": "code",
   "execution_count": 7,
   "metadata": {
    "collapsed": false
   },
   "outputs": [
    {
     "name": "stdout",
     "output_type": "stream",
     "text": [
      "69 predictors:\n",
      "Index([u'horsepower', u'highway-mpg', u'normalized-losses', u'wheel-base',\n",
      "       u'length', u'width', u'height', u'curb-weight', u'engine-size', u'bore',\n",
      "       u'stroke', u'compression-ratio', u'peak-rpm', u'city-mpg',\n",
      "       u'symboling_-2.0', u'symboling_0.0', u'symboling_1.0',\n",
      "       u'symboling_1.09604519774', u'symboling_2.0', u'symboling_3.0',\n",
      "       u'make_audi', u'make_bmw', u'make_chevrolet', u'make_dodge',\n",
      "       u'make_honda', u'make_mazda', u'make_mercedes-benz', u'make_mercury',\n",
      "       u'make_mitsubishi', u'make_nissan', u'make_peugot', u'make_plymouth',\n",
      "       u'make_porsche', u'make_renault', u'make_saab', u'make_subaru',\n",
      "       u'make_toyota', u'make_volkswagen', u'make_volvo', u'fuel-type_diesel',\n",
      "       u'fuel-type_gas', u'aspiration_std', u'aspiration_turbo',\n",
      "       u'num-of-doors_four', u'num-of-doors_two', u'body-style_convertible',\n",
      "       u'body-style_hardtop', u'body-style_hatchback', u'body-style_sedan',\n",
      "       u'body-style_wagon', u'drive-wheels_4wd', u'drive-wheels_fwd',\n",
      "       u'drive-wheels_rwd', u'engine-location_front', u'engine-location_rear',\n",
      "       u'engine-type_dohc', u'engine-type_l', u'engine-type_ohc',\n",
      "       u'engine-type_ohcf', u'engine-type_ohcv', u'num-of-cylinders_eight',\n",
      "       u'num-of-cylinders_five', u'num-of-cylinders_four',\n",
      "       u'num-of-cylinders_six', u'fuel-system_1bbl', u'fuel-system_2bbl',\n",
      "       u'fuel-system_idi', u'fuel-system_mpfi', u'fuel-system_spdi'],\n",
      "      dtype='object')\n"
     ]
    }
   ],
   "source": [
    "Dataset_2_Data = namedtuple('Dataset_2_Data', ['train', 'test'])\n",
    "\n",
    "XY_Data = namedtuple('XY_Data', ['x', 'y'])\n",
    "\n",
    "\n",
    "def split(df, split_index):\n",
    "    train = df[:split_index]\n",
    "    test = df[split_index:]\n",
    "    return train, test\n",
    "\n",
    "\n",
    "def is_categorical(column):\n",
    "    return column.dtype == object or len(column.unique()) < 8\n",
    "\n",
    "\n",
    "def encode_categorical_variables_prob_2a():\n",
    "    df = pd.read_csv('datasets/dataset_2.txt')\n",
    "\n",
    "    y = df['price']\n",
    "    x_df = df.drop('price', axis=1)\n",
    "\n",
    "    expanded_x_df = x_df.copy()\n",
    "    for column_name in df.columns:\n",
    "        column = df[column_name]\n",
    "        if is_categorical(column):\n",
    "            dummies_df = pd.get_dummies(column, prefix=column_name)\n",
    "\n",
    "            expanded_x_df = expanded_x_df.drop(column_name, axis=1)\n",
    "            expanded_x_df = pd.concat([expanded_x_df, dummies_df], axis=1)\n",
    "\n",
    "    split_index = len(expanded_x_df) // 4\n",
    "\n",
    "    x_train, x_test = split(expanded_x_df, split_index)\n",
    "    y_train, y_test = split(y, split_index)\n",
    "\n",
    "    train = XY_Data(x_train, y_train)\n",
    "    test = XY_Data(x_test, y_test)\n",
    "\n",
    "    return Dataset_2_Data(train, test)\n",
    "\n",
    "\n",
    "def print_expanded_df_prob_2a(dataset_2_data):\n",
    "    x = dataset_2_data.train.x\n",
    "\n",
    "    print '%d predictors:' % len(x.columns)\n",
    "    print x.columns\n",
    "\n",
    "    \n",
    "dataset_2_data = encode_categorical_variables_prob_2a()\n",
    "print_expanded_df_prob_2a(dataset_2_data)"
   ]
  },
  {
   "cell_type": "markdown",
   "metadata": {},
   "source": [
    "### Part (b): Apply regular linear regression\n",
    "- Split the data set into train and test sets, with the first 25% of the data for training and the remaining for testing.  \n",
    "\n",
    "\n",
    "- Use regular linear regression to fit a model to the training set and evaluate the R^2 score of the fitted model on both the training and test sets. What do you observe about these values?\n",
    "\n",
    "\n",
    "- You had seen in class that the R^2 value of a least-squares fit to a data set would lie between 0 and 1. Is this true for the test R^2 values reported above? If not, give a reason for why this is the case.\n",
    "\n",
    "\n",
    "- Is there a need for regularization while fitting a linear model to this data set?\n",
    "\n",
    "**Note**: You may use the `statsmodels` or `sklearn` to fit a linear regression model and evaluate the fits."
   ]
  },
  {
   "cell_type": "markdown",
   "metadata": {},
   "source": [
    "**Solution:**"
   ]
  },
  {
   "cell_type": "code",
   "execution_count": 8,
   "metadata": {
    "collapsed": false
   },
   "outputs": [
    {
     "name": "stdout",
     "output_type": "stream",
     "text": [
      "x train shape: (51, 69)\n",
      "train R^2: 1.000, test R^2: -5.975\n"
     ]
    }
   ],
   "source": [
    "def score(regression, train, test):\n",
    "    train_score = regression.score(*train)\n",
    "    test_score = regression.score(*test)\n",
    "    return train_score, test_score\n",
    "\n",
    "\n",
    "def linear_regression_prob_2b(dataset_2_data):\n",
    "    train = dataset_2_data.train\n",
    "    test = dataset_2_data.test\n",
    "\n",
    "    print 'x train shape: %s' % str(train.x.shape)\n",
    "\n",
    "    linear_regression = Lin_Reg()\n",
    "    linear_regression.fit(*train)\n",
    "\n",
    "    train_score, test_score = score(linear_regression, train, test)\n",
    "\n",
    "    print 'train R^2: %.3f, test R^2: %.3f' % (train_score, test_score)\n",
    "\n",
    "    \n",
    "linear_regression_prob_2b(dataset_2_data)"
   ]
  },
  {
   "cell_type": "markdown",
   "metadata": {},
   "source": [
    "***Use regular linear regression to fit a model to the training set and evaluate the R^2 score of the fitted model on both the training and test sets. What do you observe about these values?***\n",
    "\n",
    "We have a perfect training R^2 score (1.0) because the number of observations (n=51) is less than the number of predictors (k=69), so linear regression doesn't have a unique solution in this case as a result there is high variance. Because of high variance the test score is quite low (-6.0).\n",
    "\n",
    "***Is there a need for regularization while fitting a linear model to this data set?***\n",
    "\n",
    "No. We need to do this for the ridge regression."
   ]
  },
  {
   "cell_type": "markdown",
   "metadata": {},
   "source": [
    "### Part (c): Apply Ridge regression\n",
    "\n",
    "- Apply Ridge regression on the training set for different values of the regularization parameter $\\lambda$ in the range $\\{10^{-7}, 10^{-6}, \\ldots, 10^7\\}$. Evaluate the R^2 score for the models you obtain on both the train and test sets. Plot both values as a function of $\\lambda$. \n",
    "\n",
    "\n",
    "- Explain the relationship between the regularization parameter and the training and test R^2 scores.\n",
    "\n",
    "\n",
    "- How does the best test R^2 value obtained using Ridge regression compare with that of plain linear regression? Explain.\n",
    "\n",
    "**Note**: You may use the `statsmodels` or `sklearn` to fit a ridge regression model and evaluate the fits."
   ]
  },
  {
   "cell_type": "markdown",
   "metadata": {},
   "source": [
    "**Solution:**"
   ]
  },
  {
   "cell_type": "code",
   "execution_count": 9,
   "metadata": {
    "collapsed": false
   },
   "outputs": [
    {
     "name": "stdout",
     "output_type": "stream",
     "text": [
      "train x shape: (51, 69), test x shape: (154, 69)\n",
      "alpha: 1e-07, train R^2: 1.000, test R^2: -6.586\n",
      "alpha: 1e-06, train R^2: 1.000, test R^2: -2.880\n",
      "alpha: 1e-05, train R^2: 1.000, test R^2:  0.273\n",
      "alpha: 1e-04, train R^2: 1.000, test R^2:  0.718\n",
      "alpha: 1e-03, train R^2: 0.999, test R^2:  0.881\n",
      "alpha: 1e-02, train R^2: 0.997, test R^2:  0.931\n",
      "alpha: 1e-01, train R^2: 0.992, test R^2:  0.935\n",
      "alpha: 1e+00, train R^2: 0.964, test R^2:  0.914\n",
      "alpha: 1e+01, train R^2: 0.685, test R^2:  0.638\n",
      "alpha: 1e+02, train R^2: 0.160, test R^2:  0.129\n",
      "alpha: 1e+03, train R^2: 0.018, test R^2: -0.005\n",
      "alpha: 1e+04, train R^2: 0.002, test R^2: -0.021\n",
      "alpha: 1e+05, train R^2: 0.000, test R^2: -0.022\n",
      "alpha: 1e+06, train R^2: 0.000, test R^2: -0.022\n",
      "alpha: 1e+07, train R^2: 0.000, test R^2: -0.022\n"
     ]
    },
    {
     "data": {
      "image/png": "[encoded data removed]",
      "text/plain": [
       "<matplotlib.figure.Figure at 0x115dae450>"
      ]
     },
     "metadata": {},
     "output_type": "display_data"
    }
   ],
   "source": [
    "from itertools import izip\n",
    "\n",
    "\n",
    "def get_ridge_regression_prob_2c_data(dataset_2_data):\n",
    "    train = dataset_2_data.train\n",
    "    test = dataset_2_data.test\n",
    "\n",
    "    alpha_list = []\n",
    "    train_score_list = []\n",
    "    test_score_list = []\n",
    "\n",
    "    for exponent in range(-7, 8):\n",
    "        alpha = 10.0 ** exponent\n",
    "\n",
    "        ridge_regression = Ridge_Reg(alpha=alpha, normalize=True)\n",
    "        ridge_regression.fit(*train)\n",
    "        train_score, test_score = score(ridge_regression, train, test)\n",
    "\n",
    "        train_score_list.append(train_score)\n",
    "        test_score_list.append(test_score)\n",
    "        alpha_list.append(alpha)\n",
    "\n",
    "    return alpha_list, train_score_list, test_score_list\n",
    "\n",
    "\n",
    "def ridge_regression_prob_2c(dataset_2_data):\n",
    "    train = dataset_2_data.train\n",
    "    test = dataset_2_data.test\n",
    "\n",
    "    print 'train x shape: %s, test x shape: %s' % (str(train.x.shape), str(test.x.shape))\n",
    "\n",
    "    alpha_list, train_score_list, test_score_list = get_ridge_regression_prob_2c_data(dataset_2_data)\n",
    "\n",
    "    for alpha, train_score, test_score in izip(alpha_list, train_score_list, test_score_list):\n",
    "        print 'alpha: %.0e, train R^2: %.3f, test R^2: % .3f' % (alpha, train_score, test_score)\n",
    "\n",
    "    _, ax = plt.subplots(1, 1, figsize=(8, 5))\n",
    "\n",
    "    ax.plot(alpha_list, train_score_list, label='train')\n",
    "    ax.plot(alpha_list, test_score_list, label='test')\n",
    "\n",
    "    ax.set_xscale('log')\n",
    "    ax.set_xlabel('$\\lambda$')\n",
    "    ax.set_ylabel('$R^2$')\n",
    "    ax.set_ylim([-7.0, 1.5])\n",
    "    ax.set_title('Ridge regression, train and test scores as functions of $\\lambda$')\n",
    "\n",
    "    ax.legend(loc='lower right')\n",
    "\n",
    "    plt.show()\n",
    "\n",
    "\n",
    "    \n",
    "ridge_regression_prob_2c(dataset_2_data)"
   ]
  },
  {
   "cell_type": "markdown",
   "metadata": {},
   "source": [
    "***Explain the relationship between the regularization parameter and the training and test R^2 scores.***\n",
    "\n",
    "For $\\lambda$=0 we have linear regression and the results for $\\lambda=10^{-7}$ are close to what we have for the linear regression (a perfect train $R^2=1$ and a bad test $R^2=-6.6$, high variance and no bias). As $\\lambda$ increases the shrinkage of the ridge regression predictor coefficients leads to significantly lower variance and slightly higher bias. As a result test $R^2$ dramatically rises and reaches its maximum (0.935) for $\\lambda=0.1$. After that point bias grows faster than variance drops because of the shrinkage of the coefficients. They get smaller and smaller (going to zero) and as a result they get underestimated more and more. Test and train $R^2$ go down as $\\lambda$ increases for $\\lambda>0.1$.\n",
    "\n",
    "***How does the best test R^2 value obtained using Ridge regression compare with that of plain linear regression? Explain.***\n",
    "\n",
    "Ridge regression achieves much better test $R^2$ value (0.935 vs -5.975) because in this example we have high dimensionality (51 observations and 69 predictors) which results in high variance for the linear regression. "
   ]
  },
  {
   "cell_type": "markdown",
   "metadata": {},
   "source": [
    "### Part (d): Tune regularization parameter using cross-validation and bootstrapping\n",
    "-  Evaluate the performance of the Ridge regression for different regularization parameters $\\lambda$ using 5-fold cross validation **or** bootstrapping on the training set. \n",
    "\n",
    "    - Plot the cross-validation (CV) or bootstrapping R^2 score as a function of $\\lambda$. \n",
    "    \n",
    "    - How closely does the CV score or bootstrapping score match the R^2 score on the test set? Does the model with lowest CV score or bootstrapping score correspond to the one with maximum R^2 on the test set?\n",
    "    \n",
    "    - Does the model chosen by CV or bootstrapping perform better than plain linear regression?\n",
    "\n",
    "**Note**: You may use the `statsmodels` or `sklearn` to fit a linear regression model and evaluate the fits. You may also use `kFold` from `sklearn.cross_validation`. "
   ]
  },
  {
   "cell_type": "markdown",
   "metadata": {},
   "source": [
    "**Solution:**"
   ]
  },
  {
   "cell_type": "code",
   "execution_count": 10,
   "metadata": {
    "collapsed": false
   },
   "outputs": [
    {
     "name": "stdout",
     "output_type": "stream",
     "text": [
      "alpha: 1e-07, cv score: -10.270\n",
      "alpha: 1e-06, cv score:  -7.232\n",
      "alpha: 1e-05, cv score:  -0.599\n",
      "alpha: 1e-04, cv score:   0.355\n",
      "alpha: 1e-03, cv score:   0.416\n",
      "alpha: 1e-02, cv score:   0.597\n",
      "alpha: 1e-01, cv score:   0.697\n",
      "alpha: 1e+00, cv score:   0.683\n",
      "alpha: 1e+01, cv score:   0.495\n",
      "alpha: 1e+02, cv score:  -0.052\n",
      "alpha: 1e+03, cv score:  -0.228\n",
      "alpha: 1e+04, cv score:  -0.249\n",
      "alpha: 1e+05, cv score:  -0.251\n",
      "alpha: 1e+06, cv score:  -0.251\n",
      "alpha: 1e+07, cv score:  -0.251\n"
     ]
    },
    {
     "data": {
      "image/png": "[encoded data removed]",
      "text/plain": [
       "<matplotlib.figure.Figure at 0x11be03350>"
      ]
     },
     "metadata": {},
     "output_type": "display_data"
    }
   ],
   "source": [
    "from sklearn.cross_validation import KFold\n",
    "\n",
    "\n",
    "def cross_validation_prob_2d(dataset_2_data):\n",
    "    train = dataset_2_data.train\n",
    "\n",
    "    x_fold = train.x\n",
    "    y_fold = train.y\n",
    "    num_folds = 5\n",
    "    kf = KFold(len(x_fold), n_folds=num_folds, shuffle=True, random_state=1090)\n",
    "\n",
    "    alpha_list = []\n",
    "    cv_score_list = []\n",
    "    for exponent in range(-7, 8):\n",
    "        alpha = 10.0 ** exponent\n",
    "        ridge_regression = Ridge_Reg(alpha=alpha, normalize=True)\n",
    "\n",
    "        test_score_sum = 0.0\n",
    "        for train_index, test_index in kf:\n",
    "            x_fold_train = x_fold.iloc[train_index]\n",
    "            x_fold_test = x_fold.iloc[test_index]\n",
    "\n",
    "            y_fold_train = y_fold[train_index]\n",
    "            y_fold_test = y_fold[test_index]\n",
    "\n",
    "            ridge_regression.fit(x_fold_train, y_fold_train)\n",
    "            test_score_sum += ridge_regression.score(x_fold_test, y_fold_test)\n",
    "\n",
    "        cv_score = test_score_sum / num_folds\n",
    "\n",
    "        alpha_list.append(alpha)\n",
    "        cv_score_list.append(cv_score)\n",
    "\n",
    "        print 'alpha: %.0e, cv score: % 7.3f' % (alpha, cv_score)\n",
    "\n",
    "    _, _, test_score_list = get_ridge_regression_prob_2c_data(dataset_2_data)\n",
    "\n",
    "    _, ax = plt.subplots(1, 1, figsize=(8, 5))\n",
    "\n",
    "    ax.plot(alpha_list, cv_score_list, label='CV $R^2$ score')\n",
    "    ax.plot(alpha_list, test_score_list, label='test $R^2$ score')\n",
    "\n",
    "    ax.set_xscale('log')\n",
    "    ax.set_xlabel('$\\lambda$')\n",
    "    ax.set_ylabel('$R^2$')\n",
    "    ax.set_title('Ridge regression, CV $R^2$ score (and test $R^2$ score)')\n",
    "\n",
    "    ax.legend(loc='lower right')\n",
    "\n",
    "    plt.show()\n",
    "\n",
    "    \n",
    "cross_validation_prob_2d(dataset_2_data)"
   ]
  },
  {
   "cell_type": "markdown",
   "metadata": {},
   "source": [
    "***How closely does the CV score or bootstrapping score match the R^2 score on the test set?***\n",
    "\n",
    "CV $R^2$ scores are lower than the test $R^2$ scores. It could be explained by the fact that for test $R^2$ scores we fit 51 observations and get the score for 154 observations. For CV $R^2$ scores we fit fewer observations (41) and to get the score we use only 10 observations. But the shape looks similar. The maximum ($R^2$=0.697) is achieved at the same $\\lambda$ value ($\\lambda$=0.1).\n",
    "\n",
    "***Does the model with lowest CV score or bootstrapping score correspond to the one with maximum R^2 on the test set?***\n",
    "\n",
    "Since we use $R^2$ and not MSE, it makes sense to talk about the highest CV score. In our case the $\\lambda$ value ($\\lambda$=0.1) for the highest CV score matches the $\\lambda$ value for the maximum $R^2$ on the test set.\n",
    "\n",
    "***Does the model chosen by CV or bootstrapping perform better than plain linear regression?***\n",
    "\n",
    "Yes, significantly better. The model chosen by CV ($\\lambda$=0.1) has CV $R^2$=0.697."
   ]
  },
  {
   "cell_type": "markdown",
   "metadata": {},
   "source": [
    "## Problem 3: Ridge regression *via* ordinary least-squares regression\n",
    "\n",
    "We present an approach to implement Ridge regression using oridinary least-squares regression. Given a matrix of responses $\\mathbf{X} \\in \\mathbb{R}^{n\\times p}$ and response vector $\\mathbf{y} \\in \\mathbb{R}^{n}$, one can implement Ridge regression with regularization parameter $\\lambda$ as follows:\n",
    "\n",
    "- Augment the matrix of predictors $\\mathbf{X}$ with $p$ new rows containing the scaled identity matrix $\\sqrt{\\lambda}\\mathbf{I} \\in \\mathbb{R}^{p \\times p}$, i.e.\n",
    "$$\\overline{\\mathbf{X}} \\,=\\, \n",
    "\\begin{bmatrix}\n",
    "X_{11} & \\ldots & X_{1p}\\\\\n",
    "\\vdots & \\ddots & \\vdots\\\\\n",
    "X_{n1} & \\ldots & X_{np}\\\\\n",
    "\\sqrt{\\lambda} & \\ldots & 0\\\\\n",
    "\\vdots & \\ddots & \\vdots\\\\\n",
    "0 & \\ldots & \\sqrt{\\lambda}\n",
    "\\end{bmatrix}\n",
    "\\,\\in\\,\n",
    "\\mathbb{R}^{(n+p)\\times p}\n",
    ".\n",
    "$$\n",
    "\n",
    "\n",
    "- Augment the response vector $\\mathbf{y}$ with a column of $p$ zeros, i.e.\n",
    "$$\n",
    "\\overline{\\mathbf{y}} \\,=\\, \n",
    "\\begin{bmatrix}\n",
    "y_{1}\\\\\n",
    "\\vdots\\\\\n",
    "y_{n}\\\\\n",
    "0\\\\\n",
    "\\vdots\\\\\n",
    "0\n",
    "\\end{bmatrix}\n",
    "\\,\\in\\,\n",
    "\\mathbb{R}^{n+p}.\n",
    "$$\n",
    "\n",
    "\n",
    "- Apply ordinary least-squares regression on the augmented data set $(\\overline{\\mathbf{X}}, \\overline{\\mathbf{y}})$.\n",
    "\n",
    "### Part (a): Show the proposed approach implements Ridge regression\n",
    "Show that the approach proposed above implements Ridge regression with parameter $\\lambda$."
   ]
  },
  {
   "cell_type": "markdown",
   "metadata": {},
   "source": [
    "**Solution:**"
   ]
  },
  {
   "cell_type": "markdown",
   "metadata": {},
   "source": []
  },
  {
   "cell_type": "markdown",
   "metadata": {},
   "source": [
    "### Part (b): Debug our implementation of ridge regression\n",
    "You're a grader for CS109A, the following is an implemention of Ridge regression (via the above approach) submitted by a student. The dataset is ``dataset_3.txt``. The regression model is fitted to a training set, and the R^2 scores of the fitted model on the training and test sets are plotted as a function of the regularization parameter. Grade this solution according to the following rubric (each category is equally weighted): \n",
    "\n",
    "- correctness\n",
    "\n",
    "- interpretation (if applicable)\n",
    "\n",
    "- code/algorithm design\n",
    "\n",
    "- presentation\n",
    "\n",
    "In addition to providing an holistic grade (between 0 to 5), provide a corrected version of this code that is submission quality."
   ]
  },
  {
   "cell_type": "code",
   "execution_count": 12,
   "metadata": {
    "collapsed": false
   },
   "outputs": [
    {
     "data": {
      "text/plain": [
       "[<matplotlib.lines.Line2D at 0x11686fd90>]"
      ]
     },
     "execution_count": 12,
     "metadata": {},
     "output_type": "execute_result"
    },
    {
     "data": {
      "image/png": "[encoded data removed]",
      "text/plain": [
       "<matplotlib.figure.Figure at 0x11d19bf50>"
      ]
     },
     "metadata": {},
     "output_type": "display_data"
    }
   ],
   "source": [
    "# Fit\n",
    "def ridge(x_train, y_train, reg_param):\n",
    "    n=np.shape(x_train)[0]\n",
    "    x_train=np.concatenate((x_train,reg_param*np.identity(n)),axis=1)\n",
    "    y_train_=np.zeros((n+np.shape(x_train)[1],1))\n",
    "    for c in range(n):\n",
    "        y_train_[c]= y_train[c]\n",
    "    import sklearn\n",
    "    model = sklearn.linear_model.LinearRegression()\n",
    "    model.fit(x_train,y_train.reshape(-1,1))\n",
    "    return model\n",
    "\n",
    "# Score\n",
    "def score(m,x_test,y_test, reg_param):\n",
    "    n=np.shape(x_train)[0]\n",
    "    x_test=np.concatenate((x_test,reg_param*np.identity(n)),axis=1)\n",
    "    y_test_=np.zeros((n+np.shape(x_test)[1],1))\n",
    "    for c in range(n):\n",
    "        y_test_[c]= y_test[c]\n",
    "    return m.score(x_test,y_test.reshape(-1,1))\n",
    "\n",
    "# Load\n",
    "data = np.loadtxt('datasets/dataset_3.txt', delimiter=',')\n",
    "n = data.shape[0]\n",
    "n = int(np.round(n*0.5))\n",
    "x_train = data[0:n,0:100]\n",
    "y_train = data[0:n,100]\n",
    "x_test = data[n:2*n,0:100]\n",
    "y_test = data[n:2*n,100]\n",
    "\n",
    "# Params\n",
    "a=np.zeros(5)\n",
    "for i in range(-2,2):\n",
    "    a[i+2]=10**i\n",
    "\n",
    "# Iterate\n",
    "rstr =np.zeros(5)\n",
    "rsts =np.zeros(5)\n",
    "for j in range(0,5):    \n",
    "    m =ridge(x_train,y_train,a[i])\n",
    "    rstr[j]=score(m,x_train,y_train,a[j])\n",
    "    rsts[i]=score(m,x_test,y_test,a[i])\n",
    "\n",
    "# Plot\n",
    "plt.plot(a,rstr)\n",
    "plt.plot(a,rsts)"
   ]
  },
  {
   "cell_type": "markdown",
   "metadata": {},
   "source": [
    "**Solution:**"
   ]
  },
  {
   "cell_type": "code",
   "execution_count": null,
   "metadata": {
    "collapsed": true
   },
   "outputs": [],
   "source": []
  },
  {
   "cell_type": "markdown",
   "metadata": {},
   "source": [
    "## Challenge Problem: Predicting Outcome of a Fund-raising Campaign\n",
    "You are provided a data set containing details of mail sent to 95,412 potential donors for a fund-raising campaign of a not-for-profit organization. This data set also contains the amount donated by each donor. The task is to build a model that can estimate the amount that a donor would donate using his/her attributes. The data is contained in the file `dataset_4.txt`. Each row contains 376 attributes for a donor, followed by the donation amount.\n",
    "\n",
    "**Note**: For additional information about the attributes used, please look up the file `dataset_4_description.txt`. This files also contains details of attributes that have been omitted from the data set.\n",
    "\n",
    "### Part (a): Fit regression model\n",
    "Build a suitable model to predict the donation amount. How good is your model? \n",
    "\n",
    "\n",
    "### Part (b): Evaluate the total profit of the fitted model\n",
    "Suppose you are told that the cost of mailing the donor is \\$7. Use your model to maximize profit. Implement, explain and rigorously justify your strategy. How does your strategry compare with blanket mailing everyone.\n",
    "\n",
    "### Part (c): Further Discussion\n",
    "In hindsight, thoroughly discuss the appropriatenes of using a regression model for this dataset (you must at least address the suitability with respect to profit maximization and model assumptions). Rigorously justify your reasoning. "
   ]
  }
 ],
 "metadata": {
  "anaconda-cloud": {},
  "kernelspec": {
   "display_name": "Python 2",
   "language": "python",
   "name": "python2"
  },
  "language_info": {
   "codemirror_mode": {
    "name": "ipython",
    "version": 2
   },
   "file_extension": ".py",
   "mimetype": "text/x-python",
   "name": "python",
   "nbconvert_exporter": "python",
   "pygments_lexer": "ipython2",
   "version": "2.7.12"
  }
 },
 "nbformat": 4,
 "nbformat_minor": 0
}
